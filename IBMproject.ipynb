{
  "metadata": {
    "kernelspec": {
      "display_name": "Python (Pyodide)",
      "language": "python",
      "name": "python"
    },
    "language_info": {
      "codemirror_mode": {
        "name": "python",
        "version": 3
      },
      "file_extension": ".py",
      "mimetype": "text/x-python",
      "name": "python",
      "nbconvert_exporter": "python",
      "pygments_lexer": "ipython3",
      "version": "3.8"
    }
  },
  "nbformat_minor": 5,
  "nbformat": 4,
  "cells": [
    {
      "id": "398fb5cc-3dda-4b15-ac3e-58bb0d1a011a",
      "cell_type": "markdown",
      "source": "# Data Science Tools and Ecosystem\n",
      "metadata": {}
    },
    {
      "id": "4267df2c-af82-4519-8d3c-36fe89a7e5cc",
      "cell_type": "markdown",
      "source": "## Introduction\nIn this notebook, we summarize some of the key tools and concepts used by Data Scientists.\n    ",
      "metadata": {}
    },
    {
      "id": "7a2bcc29-0d69-4ac5-97f6-01ecbee26b1a",
      "cell_type": "markdown",
      "source": "## Data Science Languages\nSome of the popular languages that Data Scientists use are:\n1. Python\n2. R\n3. SQL\n4. Julia\n",
      "metadata": {}
    },
    {
      "id": "5991211b-ac59-4875-8572-6f2f2503cbe4",
      "cell_type": "markdown",
      "source": "## Data Science Libraries\nSome of the commonly used libraries used by Data Scientists include:\n1. Pandas\n2. NumPy\n3. Matplotlib\n4. Scikit-learn\n5. TensorFlow\n",
      "metadata": {}
    },
    {
      "id": "c95c5246-9784-49b6-a8fd-e6f8904a3c45",
      "cell_type": "markdown",
      "source": "## Data Science Tools\n| Tool          | Category            |\n|---------------|---------------------|\n| Jupyter Notebook | Interactive Development |\n| RStudio       | Statistical Computing |\n| Apache Spark  | Big Data Processing |\n| TensorFlow    | Deep Learning |\n| GitHub        | Version Control |\n",
      "metadata": {}
    },
    {
      "id": "d94fe56b-4de4-4122-8ac0-1cbf2649718c",
      "cell_type": "markdown",
      "source": "## Arithmetic Expression Examples\nBelow are some examples of evaluating arithmetic expressions in Python.\n",
      "metadata": {}
    },
    {
      "id": "1370d041-e775-445d-aa5a-1fa588a3028f",
      "cell_type": "code",
      "source": "# This is a simple arithmetic expression to multiply then add integers\n(3*4) + 5\n",
      "metadata": {
        "trusted": true
      },
      "outputs": [
        {
          "execution_count": 1,
          "output_type": "execute_result",
          "data": {
            "text/plain": "17"
          },
          "metadata": {}
        }
      ],
      "execution_count": 1
    },
    {
      "id": "42413699-00d9-43d7-86eb-ab1c83307e89",
      "cell_type": "code",
      "source": "# This will convert 200 minutes to hours by dividing by 60\nminutes = 200\nhours = minutes / 60\nhours\n",
      "metadata": {
        "trusted": true
      },
      "outputs": [
        {
          "data": {
            "text/plain": [
              "3.3333333333333335"
            ]
          },
          "execution_count": 2,
          "metadata": {},
          "output_type": "execute_result"
        }
      ],
      "execution_count": 2
    },
    {
      "id": "e594b44f-7d9b-4893-96e1-0659d8cdfb42",
      "cell_type": "markdown",
      "source": "## Objectives\nIn this notebook we will:\n- List popular languages for Data Science\n- List commonly used libraries in Data Science\n- Create a table of Data Science tools\n- Perform basic arithmetic operations\n- Convert minutes to hours using Python code\n",
      "metadata": {}
    },
    {
      "id": "d4e50e6a-aafe-4fd6-9188-acf587b288e8",
      "cell_type": "markdown",
      "source": "## Author\n**Abhimanyu Kumar**\n",
      "metadata": {}
    },
    {
      "id": "4773654b-56e9-474d-b49c-ac3b4ed5a81a",
      "cell_type": "code",
      "source": "",
      "metadata": {
        "trusted": true
      },
      "outputs": [],
      "execution_count": null
    },
    {
      "id": "b47e3b24-3c00-447b-9e7c-50c0d4ee99f4",
      "cell_type": "code",
      "source": "",
      "metadata": {
        "trusted": true
      },
      "outputs": [],
      "execution_count": null
    }
  ]
}